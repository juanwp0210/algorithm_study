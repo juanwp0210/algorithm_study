{
 "cells": [
  {
   "cell_type": "markdown",
   "metadata": {},
   "source": [
    "# 2-2貪欲法\n",
    "    とは、常に「その状況下で最善」の選択をし続ける方法。\n",
    "### 問題(硬貨の問題)\n",
    "    1,5,10,50,500円硬貨がそれぞれn_i枚ある。A円の支払いをするとき、硬貨の最小枚数を出力せよ。そのような支払い方法が存在しないときは-1を出力せよ。\n",
    "    n_i=(0~10^9)\n",
    "    A=(0~10^9)\n",
    "考え方：簡単では？O(6)~O(1)。ちなみに、もとの問題は「そのような支払い方法は存在するものとする」だったから「そのような支払い方法が存在しないときは-1を出力せよ。」は追加した。"
   ]
  },
  {
   "cell_type": "code",
   "execution_count": 2,
   "metadata": {},
   "outputs": [],
   "source": [
    "import numpy as np\n",
    "import math\n",
    "import itertools\n",
    "import random as rn"
   ]
  },
  {
   "cell_type": "code",
   "execution_count": 3,
   "metadata": {},
   "outputs": [],
   "source": [
    "#入力 例１\n",
    "n=[3,2,1,3,0,2]\n",
    "A=620"
   ]
  },
  {
   "cell_type": "code",
   "execution_count": 4,
   "metadata": {},
   "outputs": [
    {
     "name": "stdout",
     "output_type": "stream",
     "text": [
      "[647265519, 48008717, 678035661, 864585155, 330767081, 232572397] 854715365\n"
     ]
    }
   ],
   "source": [
    "#入力　ランダム\n",
    "n=[rn.randint(0,10**9)for i in range(6)]\n",
    "A=rn.randint(0,10**9)\n",
    "print(n,A)"
   ]
  },
  {
   "cell_type": "code",
   "execution_count": 5,
   "metadata": {},
   "outputs": [
    {
     "name": "stdout",
     "output_type": "stream",
     "text": [
      "1709436\n"
     ]
    }
   ],
   "source": [
    "coin=[1,5,10,50,100,500]\n",
    "amount=0\n",
    "count=0\n",
    "flag=False\n",
    "for i in range(6):\n",
    "    j=5-i\n",
    "    count+=min(((A-amount)//coin[j])*coin[j], coin[j]*n[j])//coin[j]\n",
    "    amount+=min(((A-amount)//coin[j])*coin[j], coin[j]*n[j])\n",
    "    \n",
    "    if amount==A:\n",
    "        flag=True\n",
    "        break\n",
    "print(count) if flag else print(-1)"
   ]
  },
  {
   "cell_type": "markdown",
   "metadata": {},
   "source": [
    "### 問題(区間スケジューリング)\n",
    "    n個の仕事があり、それぞれ時間s_iに始まってt_iに終わる。重複なく参加できる最大の仕事数を出力せよ。\n",
    "    1<=N<=10^5\n",
    "    1<=s_i<t_i<=10^9\n",
    " 考え方：現時刻から始められる仕事の中で、終了時刻が一番早い仕事を選んでいけば最適では？O(N)"
   ]
  },
  {
   "cell_type": "code",
   "execution_count": 6,
   "metadata": {},
   "outputs": [],
   "source": [
    "#入力　ランダム\n",
    "N=rn.randint(1,10**5)\n",
    "works=[]\n",
    "starts=[]\n",
    "fins=[]\n",
    "for i in range(N):\n",
    "    s=rn.randint(1,10**9-1)\n",
    "    t=rn.randint(s+1,10**9)\n",
    "    starts.append(s)\n",
    "    fins.append(t)\n",
    "    works.append((s,t))\n",
    "#print(N,works)"
   ]
  },
  {
   "cell_type": "code",
   "execution_count": 7,
   "metadata": {},
   "outputs": [],
   "source": [
    "#入力　サンプル\n",
    "N=5\n",
    "works=[(1,3),(2,5),(4,7),(6,9),(8,10)]"
   ]
  },
  {
   "cell_type": "code",
   "execution_count": 8,
   "metadata": {},
   "outputs": [
    {
     "name": "stdout",
     "output_type": "stream",
     "text": [
      "(1, 3)\n",
      "(2, 5)\n",
      "(4, 7)\n",
      "(6, 9)\n",
      "(8, 10)\n",
      "3\n"
     ]
    }
   ],
   "source": [
    "time=0\n",
    "works.sort(key=lambda x: x[1])\n",
    "ans=0\n",
    "for each in works:\n",
    "    print(each)\n",
    "    if each[0]> time:\n",
    "        time=each[1]\n",
    "        ans+=1\n",
    "print(ans)"
   ]
  },
  {
   "cell_type": "markdown",
   "metadata": {},
   "source": [
    "### 問題(POJ No.3617 , 辞書順最小の問題)\n",
    "    N文字の文字列Sが与えられ、N文字の文字列Tを作る。始めTは長さ0で、次のいずれかの操作を行える。\n",
    "    (1) Sの先頭を1文字削除し、Tの末尾に追加する。\n",
    "    (2) Sの末尾を削除し、Tの末尾に加える。\n",
    "    辞書順でできるだけ小さくなるようにTを作れ。\n",
    "    1<=N<=2000\n",
    "考え方：各ステップで最小になるように操作を行えばよい。これも簡単。てか貪欲法はシンプルで簡単ぽいな。O(N)。"
   ]
  },
  {
   "cell_type": "code",
   "execution_count": 9,
   "metadata": {},
   "outputs": [],
   "source": [
    "#入力　ランダム\n",
    "N=rn.randint(1,2000)\n",
    "alphabets=\"abcdefghijklmnopqrstuvwxyz\"\n",
    "S=\"\"\n",
    "for i in range(N):\n",
    "    S=S+alphabets[rn.randint(0,25)]\n",
    "#print(S)"
   ]
  },
  {
   "cell_type": "code",
   "execution_count": 10,
   "metadata": {},
   "outputs": [],
   "source": [
    "#入力　サンプル\n",
    "N=6\n",
    "S=\"acdbcb\""
   ]
  },
  {
   "cell_type": "code",
   "execution_count": 11,
   "metadata": {},
   "outputs": [],
   "source": [
    "T=\"\"\n",
    "for i in range(N):\n",
    "    front,f_ind=S[0],alphabets.index(S[0])\n",
    "    back,b_ind=S[-1],alphabets.index(S[-1])\n",
    "    if f_ind<b_ind:\n",
    "        T=T+front\n",
    "        S=S[1:]\n",
    "    else:\n",
    "        T=T+back\n",
    "        S=S[:-1]\n",
    "#print(T)"
   ]
  },
  {
   "cell_type": "markdown",
   "metadata": {},
   "source": [
    "追記：上のコードではalphabets=\"abc~\"として、そのindexで辞書順を比較したけど、実はアルファベット同士の大小が比較できるらしい。\n",
    "例：　\"a\">\"d\"  False, \"d\">\"a\" True, \"xa\">\"b\" True, \"x\">\"bcd\" True"
   ]
  },
  {
   "cell_type": "markdown",
   "metadata": {},
   "source": [
    "### 問題( POJ No. 3069)\n",
    "    N個の点が直線状にあり、各点の位置はx_iで与えられる。適当な個数の点に印をつけていくが、全ての点から距離R以内に必ず印のついた点が含まれているようにしたい。条件に従うように印をつけるときの最小の数を出力せよ。\n",
    "    １<＝N<=1000\n",
    "    1<=R<=1000\n",
    "    0<=x_i<=1000\n",
    "考え方：一番左の点から始めて、距離R内にある点のうち一番右にある点に印をつける。それを繰り返す。簡単。O(N)。"
   ]
  },
  {
   "cell_type": "code",
   "execution_count": 12,
   "metadata": {},
   "outputs": [
    {
     "name": "stdout",
     "output_type": "stream",
     "text": [
      "551 39\n"
     ]
    }
   ],
   "source": [
    "#入力　ランダム\n",
    "N=rn.randint(1,1000)\n",
    "R=rn.randint(0,int(N/5))#自明な例をなくすためN/5にした。1000のままでも問題ない。\n",
    "Xs=[]\n",
    "for i in range(N):\n",
    "    Xs.append(rn.randint(1,1000))\n",
    "Xs.sort()\n",
    "print(N,R)\n",
    "#print(Xs)\n",
    "    "
   ]
  },
  {
   "cell_type": "code",
   "execution_count": 13,
   "metadata": {},
   "outputs": [],
   "source": [
    "#入力　サンプル\n",
    "N=6\n",
    "R=10\n",
    "Xs=[1,7,15,20,30,50]"
   ]
  },
  {
   "cell_type": "code",
   "execution_count": 14,
   "metadata": {},
   "outputs": [
    {
     "name": "stdout",
     "output_type": "stream",
     "text": [
      "3\n"
     ]
    }
   ],
   "source": [
    "i=0\n",
    "ans=0\n",
    "while i<N:\n",
    "    point=Xs[i]\n",
    "    while i<N and Xs[i]-point <=R:\n",
    "        i+=1\n",
    "    colored=Xs[i-1]\n",
    "    while i<N and Xs[i]-colored<=R:\n",
    "        i+=1\n",
    "    ans+=1\n",
    "print(ans)"
   ]
  },
  {
   "cell_type": "markdown",
   "metadata": {},
   "source": [
    "### 問題(POJ No.3253, Fence Repair)\n",
    "    長い板から長さがそれぞれL_iのN枚の板を切り出したい。もとの板の長さはsum(L_i)。板を切り出すとき、その板の長さの分だけコストがかかる。コストが最小になるように切り出すときの値を出力せよ。\n",
    "    1 ≤ N ≤ 10^4\n",
    "    1 ≤ Li ≤ 10^5\n",
    "考え方：簡単。〜O(N)？といたあとみてみたら、模範解答よりだいぶエレガントな答え出してた。"
   ]
  },
  {
   "cell_type": "code",
   "execution_count": 15,
   "metadata": {},
   "outputs": [],
   "source": [
    "#入力　ランダム\n",
    "N=rn.randint(1,10**4)\n",
    "Ls=[]\n",
    "for i in range(N):\n",
    "    Ls.append(rn.randint(1,10**5))"
   ]
  },
  {
   "cell_type": "code",
   "execution_count": 16,
   "metadata": {},
   "outputs": [],
   "source": [
    "#入力　サンプル\n",
    "N=3\n",
    "Ls=[5,8,8]"
   ]
  },
  {
   "cell_type": "code",
   "execution_count": 17,
   "metadata": {},
   "outputs": [
    {
     "name": "stdout",
     "output_type": "stream",
     "text": [
      "34\n"
     ]
    }
   ],
   "source": [
    "ans=0\n",
    "Ls.sort(reverse=True)\n",
    "for i in range(N):\n",
    "    ans+=Ls[i]*(i+1)\n",
    "print(ans-Ls[N-1])"
   ]
  },
  {
   "cell_type": "code",
   "execution_count": null,
   "metadata": {},
   "outputs": [],
   "source": []
  }
 ],
 "metadata": {
  "kernelspec": {
   "display_name": "Python 3",
   "language": "python",
   "name": "python3"
  },
  "language_info": {
   "codemirror_mode": {
    "name": "ipython",
    "version": 3
   },
   "file_extension": ".py",
   "mimetype": "text/x-python",
   "name": "python",
   "nbconvert_exporter": "python",
   "pygments_lexer": "ipython3",
   "version": "3.7.3"
  }
 },
 "nbformat": 4,
 "nbformat_minor": 2
}
