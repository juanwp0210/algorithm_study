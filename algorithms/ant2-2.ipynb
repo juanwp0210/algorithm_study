{
 "cells": [
  {
   "cell_type": "markdown",
   "metadata": {},
   "source": [
    "# 2-2貪欲法\n",
    "    とは、常に「その状況下で最善」の選択をし続ける方法。\n",
    "### 問題(硬貨の問題)\n",
    "    1,5,10,50,500円硬貨がそれぞれn_i枚ある。A円の支払いをするとき、硬貨の最小枚数を出力せよ。そのような支払い方法が存在しないときは-1を出力せよ。\n",
    "    n_i=(0~10^9)\n",
    "    A=(0~10^9)\n",
    "考え方：簡単では？O(6)~O(1)。ちなみに、もとの問題は「そのような支払い方法は存在するものとする」だったから「そのような支払い方法が存在しないときは-1を出力せよ。」は追加した。"
   ]
  },
  {
   "cell_type": "code",
   "execution_count": 3,
   "metadata": {},
   "outputs": [],
   "source": [
    "import numpy as np\n",
    "import math\n",
    "import itertools\n",
    "import random as rn"
   ]
  },
  {
   "cell_type": "code",
   "execution_count": 3,
   "metadata": {},
   "outputs": [],
   "source": [
    "#入力 例１\n",
    "n=[3,2,1,3,0,2]\n",
    "A=620"
   ]
  },
  {
   "cell_type": "code",
   "execution_count": 4,
   "metadata": {},
   "outputs": [
    {
     "name": "stdout",
     "output_type": "stream",
     "text": [
      "[623227339, 884990520, 38504558, 479647945, 378834269, 374487098] 565935547\n"
     ]
    }
   ],
   "source": [
    "#入力　ランダム\n",
    "n=[rn.randint(0,10**9)for i in range(6)]\n",
    "A=rn.randint(0,10**9)\n",
    "print(n,A)"
   ]
  },
  {
   "cell_type": "code",
   "execution_count": 5,
   "metadata": {},
   "outputs": [
    {
     "name": "stdout",
     "output_type": "stream",
     "text": [
      "1131878\n"
     ]
    }
   ],
   "source": [
    "coin=[1,5,10,50,100,500]\n",
    "amount=0\n",
    "count=0\n",
    "flag=False\n",
    "for i in range(6):\n",
    "    j=5-i\n",
    "    count+=min(((A-amount)//coin[j])*coin[j], coin[j]*n[j])//coin[j]\n",
    "    amount+=min(((A-amount)//coin[j])*coin[j], coin[j]*n[j])\n",
    "    \n",
    "    if amount==A:\n",
    "        flag=True\n",
    "        break\n",
    "print(count) if flag else print(-1)"
   ]
  },
  {
   "cell_type": "markdown",
   "metadata": {},
   "source": [
    "### 問題(区間スケジューリング)\n",
    "    n個の仕事があり、それぞれ時間s_iに始まってt_iに終わる。重複なく参加できる最大の仕事数を出力せよ。\n",
    "    1<=N<=10^5\n",
    "    1<=s_i<t_i<=10^9\n",
    " 考え方：現時刻から始められる仕事の中で、終了時刻が一番早い仕事を選んでいけば最適では？O(N)"
   ]
  },
  {
   "cell_type": "code",
   "execution_count": 22,
   "metadata": {},
   "outputs": [],
   "source": [
    "#入力　ランダム\n",
    "N=rn.randint(1,10**5)\n",
    "works=[]\n",
    "starts=[]\n",
    "fins=[]\n",
    "for i in range(N):\n",
    "    s=rn.randint(1,10**9-1)\n",
    "    t=rn.randint(s+1,10**9)\n",
    "    starts.append(s)\n",
    "    fins.append(t)\n",
    "    works.append((s,t))\n",
    "#print(N,works)"
   ]
  },
  {
   "cell_type": "code",
   "execution_count": 26,
   "metadata": {},
   "outputs": [],
   "source": [
    "#入力　サンプル\n",
    "N=5\n",
    "works=[(1,3),(2,5),(4,7),(6,9),(8,10)]"
   ]
  },
  {
   "cell_type": "code",
   "execution_count": 29,
   "metadata": {},
   "outputs": [
    {
     "name": "stdout",
     "output_type": "stream",
     "text": [
      "(1, 3)\n",
      "(2, 5)\n",
      "(4, 7)\n",
      "(6, 9)\n",
      "(8, 10)\n",
      "3\n"
     ]
    }
   ],
   "source": [
    "time=0\n",
    "works.sort(key=lambda x: x[1])\n",
    "ans=0\n",
    "for each in works:\n",
    "    print(each)\n",
    "    if each[0]> time:\n",
    "        time=each[1]\n",
    "        ans+=1\n",
    "print(ans)"
   ]
  },
  {
   "cell_type": "markdown",
   "metadata": {},
   "source": [
    "### 問題(辞書順最小の問題)\n",
    "    N文字の文字列Sが与えられ、N文字の文字列Tを作る。始めTは長さ0で、次のいずれかの操作を行える。\n",
    "    (1) Sの先頭を1文字削除し、Tの末尾に追加する。\n",
    "    (2) Sの末尾を削除し、Tの末尾に加える。\n",
    "    辞書順でできるだけ小さくなるようにTを作れ。\n",
    "    1<=N<=2000\n",
    "考え方：各ステップで最小になるように操作を行えばよい。これも簡単。てか貪欲法はシンプルで簡単ぽいな。O(N)。"
   ]
  },
  {
   "cell_type": "code",
   "execution_count": 49,
   "metadata": {},
   "outputs": [
    {
     "name": "stdout",
     "output_type": "stream",
     "text": [
      "jwlycmmeigbppmhdwebccwbggaqjamlcaelmuzamrjbounjddehkbykzmnbqzewdjaadlxfyzqfppzxfhzzvdgndpvdhczszdugpwkmjozzikocsegavwpzgilryzfzlmahlufbdgpwogvqmydgpuaphdoyzrhcqksmnqielsuxmwwzrquapkooxnboczbahctceansutvimzjkbwqzlldhahvhtxwkeskvzoosfbxfzgifozaanqqtmjmjgvedymbvnipaapokegnvasvoixuouhaycoyhvuadayadqwlxoezzacafnhsxlaimfpyqpjiumzbjkfdrrkkyxsmzrzxemltluemycnlodjcteocbbfjryyntfemdewbmagejptwyvgqgwsahlpnkhyifegkombzksmnozbjdzfxupanqpvewrgzvcpswsxxuctdywxvumjmsstkdcvjnlgsudqpfchmujmqlokktpcxftcjsjqhffvjcmeyxdpjgwpitnhzjgsgfosdndnhirpohbakjndgzqadwhxdprnqyyjyjmxdoxdknqistmhnafpzqkciiobpafuglrojcnhmnqhulrekjtramklbqhnaecvxbekbfzsskgporzjtjdastjjrvylopddvplanlzmqpptthkiwdlxrlalnkvkgsuhdwdwqzwoyazozpxzbabarkiyamvhpizgilaajcdlimhhsspqcgrddgrwjwbslrjbinhomompsmzbgvezydvfxdjfftzyjdhvyghcasqnfyqoxuhsmtfovehjrtvtplvgplpxfcwdzuavomwitdedxcuhbfbksqtrruwgacwhnoawxbzxmeuqatlabxqcwgqftgxuuzrrmisrnogcsncvzfjvjacvmjboefizttxrawmifwnehxjfrpgkspcinycqvrlbaeyzfjbjwmnbtvyvascaxxlylfzbmezuyduvrxqtkrnsfncntpjjgdnfmbfnqkzerngraevnghskyymukhcwmycurkkvgnjtxhzgmxecsoetkkkipohstlbugpnpyawylvubhynuewubzdfrufdrouhevqoqyakqtghieaquqimgnogaeylyrvfidopmwfjyiokurtyhxobntmatubwudpnqvveodrvwkjspeqvsncptzjpplertdlkdurrjotvlvguljqtmlzkhyglbggqpgqskzqzjiemojisbgegwhtkutxjaqzazkcyiwxvfkscgorujyjvaknkpnekjfdmziezwlekcjgsufvyeutccoilkjbrheaoylzxbuhxkztdjvgfhemgvqnzozfgyoficmtmyofvhudkgyhiwkadbcdsvrnkewjovesqjwgokvetobvgnvvwvrfdrnqihzsgeoeiwidhkpcmfqvqvvjzpltfdmeagkxfhzxfotuxzfsavyumdklaexsgotaybktpirbgrmtnwgeambnsjbywsssqxrtszmbdzuwjzoprzkbwzrawkusaijeqxveaaornthesjfijszsgojngrnudzlbofkbknbepuwnigq\n"
     ]
    }
   ],
   "source": [
    "#入力　ランダム\n",
    "N=rn.randint(1,2000)\n",
    "alphabets=\"abcdefghijklmnopqrstuvwxyz\"\n",
    "S=\"\"\n",
    "for i in range(N):\n",
    "    S=S+alphabets[rn.randint(0,25)]\n",
    "print(S)"
   ]
  },
  {
   "cell_type": "code",
   "execution_count": 54,
   "metadata": {},
   "outputs": [
    {
     "data": {
      "text/plain": [
       "False"
      ]
     },
     "execution_count": 54,
     "metadata": {},
     "output_type": "execute_result"
    }
   ],
   "source": [
    "#入力　サンプル\n",
    "N=6\n",
    "S=\"acdbcb\""
   ]
  },
  {
   "cell_type": "code",
   "execution_count": 50,
   "metadata": {},
   "outputs": [
    {
     "name": "stdout",
     "output_type": "stream",
     "text": [
      "jqginwupebnkbkfoblwlycmmeigbppmhdwebccwbggaqjamlcaelmuzdunrgnjogszsjifjsehtnroaaevxqejiasukwarzwbkzrpozjwuzdbmzstrxqssswybjsnbmaegwntmrgbriptkbyatogsxealkdmuyvasfzxutofxzhfxkgaemdftlpzjvvqvqfmcpkhdiwieoegszhiqnrdfrvwvvngvbotevkogwjqsevojweknrvsdcbdakwihygkduhvfoymtmcifoygfzoznqvgmehfgvjdtzkxhubxzlyoaehrbjkliocctueyvfusgjckelwzeizmdfjkenpknkavjyjurogcskfvxwiyckzazqajxtukthwgegbsijomeijzqzksqgpqggblgyhkzlmtqjlugvlvtojrrudkldtrelppjztpcnsvqepsjkwvrdoevvqnpduwbutamtnboxhytrukoiyjfwmpodifvrylyeagongmiquqaeihgtqkayqoqvehuordfurfdzbuweunyhbuvlywaypnpgubltshopikkkteoscexmgzhxtjngvkkrucymwchkumyykshgnveargnrezkqnfbmfndgjjptncnfsnrktqxrvudyuzembzflylxxacsavyvtbnmwjbjfzyeablrvqcynicpskgprfjxhenwfimwarxttzifeobjmvcajvjfzvcnscgonrsimrrzuuxgtfqgwcqxbaltaquemxzbxwaonhwcagwurrtqskbfbhucxdedtiwmovauzdwcfxplpgvlptvtrjhevoftmshuxoqyfnqsachgyvhdjyztffjdxfvdyzevgbzmspmomohnibjrlsbwjwrgddrgcqpsshhmildcjaaligziphvmayikrababzxpzozayowzqwdwdhusgkvknlalrxldwikhttppqmzlnalpvddpolyvrjjtsadjtjzropgksszfbkebxvceanhqblkmartjkerluhqnmhncjorlgufapboiickqzpfanhmtsiqnkdxodxmjyjyyqnrpdxhwdaqzgdnjkabhoprihndndsofgsgjzhntipwgjpdxyemcjvffhqjsjctfxcptkkolqmjumhcfpqdusglnjvcdktssmjmuvxwydtcuxxswspcvzgrwevpqnapuxfzdjbzonmskzbmokgefiyhknplhaswgqgvywtpjegambwedmeftnyyrjfbbcoetcjdolncymeultlmexzrzmsxykkrrdfkjbzmuijpqypfmialxshnfacazzeoxlwqdayadauvhyocyahuouxiovsavngekopaapinvbmydevgjmjmtqqnaazofigzfxbfsoozvksekwxthvhahdllzqwbkjzmivtusnaectchabzcobnxookpauqrzwwmxusleiqnmskqchrzyodhpaupgdymqvgowpgdbfulhamlzfzyrligzpwvagescokizzojmkwpgudzszchdvpdngdvzzhfxzppfqzyfxldaajdwezqbnmzkybkheddjnuobjrmaz\n"
     ]
    }
   ],
   "source": [
    "T=\"\"\n",
    "for i in range(N):\n",
    "    front,f_ind=S[0],alphabets.index(S[0])\n",
    "    back,b_ind=S[-1],alphabets.index(S[-1])\n",
    "    if f_ind<b_ind:\n",
    "        T=T+front\n",
    "        S=S[1:]\n",
    "    else:\n",
    "        T=T+back\n",
    "        S=S[:-1]\n",
    "print(T)"
   ]
  },
  {
   "cell_type": "markdown",
   "metadata": {},
   "source": [
    "追記：上のコードではalphabets=\"abc~\"として、そのindexで辞書順を比較したけど、実はアルファベット同士の大小が比較できるらしい。\n",
    "例：　\"a\">\"d\"  False, \"d\">\"a\" True, \"xa\">\"b\" True, \"x\">\"bcd\" True"
   ]
  },
  {
   "cell_type": "markdown",
   "metadata": {},
   "source": [
    "### 問題\n",
    "    N個の点が直線状にあり、各点の位置はx_iで与えられる。適当な個数の点に印をつけていくが、全ての点から距離R以内に必ず印のついた点が含まれているようにしたい。条件に従うように印をつけるときの最小の数を出力せよ。\n",
    "    １<＝N<=1000\n",
    "    1<=R<=1000\n",
    "    0<=x_i<=1000\n",
    "考え方：一番左の点から始めて、距離R内にある点のうち一番右にある点に印をつける。それを繰り返す。簡単。O(N)。"
   ]
  },
  {
   "cell_type": "code",
   "execution_count": 20,
   "metadata": {},
   "outputs": [
    {
     "name": "stdout",
     "output_type": "stream",
     "text": [
      "869 5\n",
      "[1, 2, 3, 3, 5, 6, 6, 9, 10, 10, 10, 11, 11, 14, 15, 15, 16, 16, 17, 17, 18, 18, 18, 20, 23, 26, 26, 26, 27, 28, 31, 31, 33, 33, 36, 37, 40, 41, 41, 44, 44, 47, 49, 53, 53, 54, 56, 57, 57, 57, 58, 60, 61, 61, 62, 67, 68, 69, 70, 70, 70, 71, 71, 71, 71, 74, 74, 77, 80, 83, 86, 88, 90, 91, 92, 92, 95, 95, 96, 96, 97, 98, 99, 99, 102, 103, 104, 105, 106, 108, 111, 112, 112, 112, 116, 119, 121, 121, 122, 123, 123, 125, 126, 127, 127, 133, 134, 134, 136, 136, 136, 137, 138, 146, 147, 147, 147, 148, 148, 151, 152, 152, 154, 154, 155, 156, 156, 157, 158, 159, 160, 160, 160, 161, 162, 163, 166, 167, 168, 170, 170, 171, 171, 173, 174, 177, 177, 178, 180, 181, 181, 183, 183, 183, 184, 186, 189, 190, 191, 191, 192, 193, 193, 194, 195, 195, 195, 198, 199, 200, 202, 204, 204, 204, 205, 206, 206, 207, 209, 210, 210, 211, 211, 211, 212, 213, 217, 217, 218, 219, 222, 222, 223, 223, 224, 226, 227, 228, 228, 229, 229, 231, 231, 232, 232, 232, 234, 234, 236, 236, 237, 238, 238, 239, 239, 241, 241, 241, 242, 243, 245, 246, 247, 248, 251, 253, 253, 255, 257, 257, 258, 260, 261, 262, 263, 263, 264, 267, 267, 270, 270, 270, 270, 272, 275, 279, 279, 280, 281, 282, 283, 284, 286, 286, 287, 289, 290, 290, 292, 292, 292, 293, 297, 297, 297, 298, 300, 300, 301, 301, 301, 304, 306, 306, 306, 308, 310, 311, 311, 311, 312, 314, 315, 316, 319, 320, 322, 322, 323, 323, 324, 325, 326, 328, 329, 329, 330, 331, 331, 332, 334, 335, 338, 339, 339, 339, 340, 341, 341, 341, 342, 346, 349, 351, 352, 352, 352, 353, 354, 356, 356, 357, 359, 360, 361, 362, 362, 363, 364, 364, 365, 366, 367, 367, 369, 370, 371, 371, 374, 374, 376, 378, 379, 380, 380, 383, 385, 387, 388, 388, 390, 390, 396, 401, 405, 406, 407, 409, 410, 410, 411, 415, 418, 419, 420, 420, 422, 422, 423, 423, 424, 428, 430, 431, 432, 433, 433, 438, 439, 440, 441, 441, 444, 445, 446, 447, 447, 447, 448, 449, 450, 450, 451, 453, 453, 453, 455, 458, 460, 460, 462, 462, 462, 464, 464, 465, 466, 467, 467, 470, 471, 473, 473, 475, 477, 480, 481, 484, 486, 487, 487, 487, 490, 490, 490, 491, 492, 492, 493, 493, 495, 496, 497, 498, 498, 499, 499, 503, 503, 504, 506, 507, 508, 509, 509, 510, 514, 514, 516, 516, 517, 517, 518, 518, 521, 523, 524, 525, 525, 526, 528, 530, 530, 532, 532, 532, 533, 538, 538, 539, 540, 540, 542, 543, 544, 545, 545, 547, 551, 552, 553, 554, 555, 556, 557, 558, 560, 560, 561, 563, 563, 570, 570, 571, 571, 574, 578, 578, 581, 583, 583, 583, 584, 586, 588, 589, 589, 589, 590, 590, 591, 593, 595, 595, 595, 595, 596, 596, 598, 598, 600, 602, 602, 606, 607, 608, 609, 610, 610, 615, 616, 616, 616, 616, 618, 618, 618, 620, 623, 623, 624, 628, 630, 630, 632, 632, 633, 633, 633, 633, 634, 634, 637, 637, 638, 639, 642, 645, 647, 648, 648, 651, 652, 654, 655, 658, 662, 663, 663, 664, 664, 669, 669, 670, 673, 675, 676, 676, 677, 677, 677, 677, 678, 679, 679, 680, 680, 680, 683, 684, 684, 685, 685, 686, 689, 690, 690, 691, 691, 695, 697, 697, 698, 699, 699, 700, 702, 706, 706, 707, 710, 711, 712, 712, 713, 714, 715, 717, 717, 720, 720, 724, 725, 726, 727, 727, 729, 732, 733, 735, 735, 736, 736, 736, 737, 740, 741, 742, 743, 744, 745, 747, 748, 748, 749, 749, 749, 750, 751, 755, 759, 760, 762, 763, 765, 765, 766, 767, 767, 768, 769, 771, 774, 774, 774, 774, 774, 776, 777, 778, 778, 780, 781, 782, 783, 784, 787, 787, 788, 788, 790, 790, 792, 794, 794, 794, 798, 798, 799, 799, 801, 801, 802, 802, 804, 804, 805, 805, 806, 806, 807, 807, 809, 809, 809, 809, 810, 811, 811, 811, 812, 814, 816, 818, 819, 820, 822, 824, 824, 825, 826, 826, 828, 829, 830, 831, 833, 836, 838, 838, 840, 844, 844, 846, 847, 848, 848, 849, 850, 853, 854, 854, 854, 858, 858, 862, 863, 867, 868, 869, 869, 872, 874, 874, 874, 875, 876, 877, 878, 881, 881, 883, 885, 886, 887, 887, 888, 889, 892, 894, 894, 895, 895, 895, 896, 896, 898, 900, 900, 901, 901, 901, 901, 901, 903, 904, 906, 906, 906, 908, 910, 910, 911, 911, 914, 915, 917, 918, 919, 920, 922, 927, 928, 930, 931, 931, 933, 933, 934, 934, 935, 935, 937, 937, 941, 943, 943, 944, 945, 946, 948, 949, 949, 950, 953, 956, 956, 957, 958, 958, 958, 961, 962, 964, 964, 965, 967, 970, 970, 971, 971, 972, 972, 974, 974, 974, 974, 978, 978, 979, 980, 981, 986, 986, 986, 987, 988, 988, 990, 990, 990, 991, 991, 992, 993, 994, 995, 997, 998]\n"
     ]
    }
   ],
   "source": [
    "#入力　ランダム\n",
    "N=rn.randint(1,1000)\n",
    "R=rn.randint(0,int(N/5))#自明な例をなくすためN/5にした。1000のままでも問題ない。\n",
    "Xs=[]\n",
    "for i in range(N):\n",
    "    Xs.append(rn.randint(1,1000))\n",
    "Xs.sort()\n",
    "print(N,R)\n",
    "print(Xs)\n",
    "    "
   ]
  },
  {
   "cell_type": "code",
   "execution_count": 17,
   "metadata": {},
   "outputs": [],
   "source": [
    "#入力　サンプル\n",
    "N=6\n",
    "R=10\n",
    "Xs=[1,7,15,20,30,50]"
   ]
  },
  {
   "cell_type": "code",
   "execution_count": 22,
   "metadata": {},
   "outputs": [
    {
     "name": "stdout",
     "output_type": "stream",
     "text": [
      "91\n"
     ]
    }
   ],
   "source": [
    "i=0\n",
    "ans=0\n",
    "while i<N:\n",
    "    point=Xs[i]\n",
    "    while i<N and Xs[i]-point <=R:\n",
    "        i+=1\n",
    "    colored=Xs[i-1]\n",
    "    while i<N and Xs[i]-colored<=R:\n",
    "        i+=1\n",
    "    ans+=1\n",
    "print(ans)"
   ]
  },
  {
   "cell_type": "markdown",
   "metadata": {},
   "source": [
    "### 問題(Fence Repair)\n",
    "    長い板から長さがそれぞれL_iのN枚の板を切り出したい。もとの板の長さはsum(L_i)。板を切り出すとき、その板の長さの分だけコストがかかる。コストが最小になるように切り出すときの値を出力せよ。\n",
    "    1 ≤ N ≤ 10^4\n",
    "    1 ≤ Li ≤ 10^5\n",
    "考え方：簡単。〜O(N)？といたあとみてみたら、模範解答よりだいぶエレガントな答え出してた。"
   ]
  },
  {
   "cell_type": "code",
   "execution_count": 30,
   "metadata": {},
   "outputs": [],
   "source": [
    "#入力　ランダム\n",
    "N=rn.randint(1,10**4)\n",
    "Ls=[]\n",
    "for i in range(N):\n",
    "    Ls.append(rn.randint(1,10**5))"
   ]
  },
  {
   "cell_type": "code",
   "execution_count": 27,
   "metadata": {},
   "outputs": [],
   "source": [
    "#入力　サンプル\n",
    "N=3\n",
    "Ls=[5,8,8]"
   ]
  },
  {
   "cell_type": "code",
   "execution_count": 31,
   "metadata": {},
   "outputs": [
    {
     "name": "stdout",
     "output_type": "stream",
     "text": [
      "38122891937\n"
     ]
    }
   ],
   "source": [
    "ans=0\n",
    "Ls.sort(reverse=True)\n",
    "for i in range(N):\n",
    "    ans+=Ls[i]*(i+1)\n",
    "print(ans-Ls[N-1])"
   ]
  },
  {
   "cell_type": "code",
   "execution_count": null,
   "metadata": {},
   "outputs": [],
   "source": []
  },
  {
   "cell_type": "code",
   "execution_count": null,
   "metadata": {},
   "outputs": [],
   "source": []
  },
  {
   "cell_type": "code",
   "execution_count": null,
   "metadata": {},
   "outputs": [],
   "source": []
  },
  {
   "cell_type": "code",
   "execution_count": null,
   "metadata": {},
   "outputs": [],
   "source": []
  },
  {
   "cell_type": "code",
   "execution_count": null,
   "metadata": {},
   "outputs": [],
   "source": [
    "\n"
   ]
  },
  {
   "cell_type": "code",
   "execution_count": null,
   "metadata": {},
   "outputs": [],
   "source": []
  }
 ],
 "metadata": {
  "kernelspec": {
   "display_name": "Python 3",
   "language": "python",
   "name": "python3"
  },
  "language_info": {
   "codemirror_mode": {
    "name": "ipython",
    "version": 3
   },
   "file_extension": ".py",
   "mimetype": "text/x-python",
   "name": "python",
   "nbconvert_exporter": "python",
   "pygments_lexer": "ipython3",
   "version": "3.7.3"
  }
 },
 "nbformat": 4,
 "nbformat_minor": 2
}
