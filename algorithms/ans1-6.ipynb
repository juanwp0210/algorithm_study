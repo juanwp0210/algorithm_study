{
 "cells": [
  {
   "cell_type": "markdown",
   "metadata": {},
   "source": [
    "# 1-6 気軽にウォーミングアップ\n",
    "### 問題1 \n",
    "    n本の棒(長さa_i )から3本選んでできる三角形の、最大の周長を出力せよ。ただし、三角形が作れない場合には0を出力せよ。\n",
    "    n=(3 ~ 100)\n",
    "    a_i=(1 ~ 10^6)\n",
    "    \n",
    " 考え方：制限計算時間1秒につき計算量10^7までに収める必要がある。今、全探索でも100^3~10^6なので、愚直にやっても1秒以内で出力される。"
   ]
  },
  {
   "cell_type": "code",
   "execution_count": 5,
   "metadata": {},
   "outputs": [],
   "source": [
    "import numpy as np\n",
    "import random as rn\n",
    "import math\n",
    "\n",
    "# 入力\n",
    "n=rn.randint(3,100)\n",
    "a=[]\n",
    "for i in range(n):\n",
    "    a.append(rn.randint(1,1000000))\n",
    "#print(a)"
   ]
  },
  {
   "cell_type": "code",
   "execution_count": 7,
   "metadata": {},
   "outputs": [
    {
     "name": "stdout",
     "output_type": "stream",
     "text": [
      "2738437\n"
     ]
    }
   ],
   "source": [
    "ans=0\n",
    "for i in range(n):\n",
    "    for j in range(i+1,n):\n",
    "        for k in range(j+1,n):\n",
    "            nums=[a[i],a[j],a[k]]\n",
    "            nums.remove(max(a[i],a[j],a[k]))\n",
    "            if max(a[i],a[j],a[k])<sum(nums):\n",
    "                flag=1\n",
    "                if sum([a[i],a[j],a[k]])> ans:\n",
    "                    ans=sum([a[i],a[j],a[k]])\n",
    "print(ans)"
   ]
  },
  {
   "cell_type": "markdown",
   "metadata": {},
   "source": [
    "### 問題2( POJ No.1852) \n",
    "    長さLの棒の上をn匹の蟻が毎秒1cmで動く。棒の端に到達した蟻は落ちる。また、棒の上で蟻が鉢合わせると、それぞれ向きを変えて進む。各蟻の初期位置が与えられるが、進行方向はわからない。すべての蟻が竿から落ちるまでの最小の時間と最大の時間を出力せよ。\n",
    "    L=(1~10^6)\n",
    "    n=(1~10^6)\n",
    "    x_i=(0~L)\n",
    "    \n",
    " 考え方： 進行方向を全探索すると指数関数になるので無理。てか、そんなことかんがえなくてもこの問題は簡単すぎん？\n"
   ]
  },
  {
   "cell_type": "code",
   "execution_count": 8,
   "metadata": {},
   "outputs": [],
   "source": [
    "L=rn.randint(1,1000000)\n",
    "n=rn.randint(1,1000000)\n",
    "x=[]\n",
    "for i in range(n):\n",
    "    x.append(rn.randint(1,L))\n",
    "#print(x)"
   ]
  },
  {
   "cell_type": "code",
   "execution_count": 9,
   "metadata": {},
   "outputs": [
    {
     "name": "stdout",
     "output_type": "stream",
     "text": [
      "4 8\n"
     ]
    }
   ],
   "source": [
    "L=10\n",
    "n=3\n",
    "x=[2,6,7]\n",
    "max_flag=0\n",
    "min_times=[]\n",
    "for i in range(n):\n",
    "    min_times.append(min(x[i],L-x[i]))\n",
    "    max_time=max(x[i],L-x[i])\n",
    "    if max_time>max_flag:\n",
    "        max_flag=max_time\n",
    "min_flag=max(min_times)\n",
    "print(min_flag,max_flag)"
   ]
  },
  {
   "cell_type": "markdown",
   "metadata": {},
   "source": [
    "### 問題3\n",
    "    数字の書かれたn枚の紙が袋に入っている。紙を出して数字を見ることを4回行う。それらの和がmとなる組み合わせが存在するかどうかを調べ、Yes/Noで出力せよ。ただし、紙に書かれる数は  k_n で与えられる。\n",
    "    n=(1~1000)\n",
    "    m=(1~ 10^8 )\n",
    "    k_n=(1~10^8 )\n",
    " \n",
    " 考え方：愚直にやれば4重ループとなり、計算量〜10^{12}で間に合わない。２分探索を2回使うことで計算量を減らす。n_i+n_jのソートにO(n^2log n)、探索にO(n^2log n)で、全体のオーダーもO(n^2log n)となって十分。らしい。この問題は回答をみた。"
   ]
  },
  {
   "cell_type": "code",
   "execution_count": 10,
   "metadata": {},
   "outputs": [
    {
     "name": "stdout",
     "output_type": "stream",
     "text": [
      "928 4485\n"
     ]
    }
   ],
   "source": [
    "n=rn.randint(1,1000)\n",
    "m=rn.randint(1,10**4)\n",
    "k=[]\n",
    "for i in range(n):\n",
    "    k.append(rn.randint(1,m))\n",
    "print(n,m)"
   ]
  },
  {
   "cell_type": "code",
   "execution_count": 11,
   "metadata": {},
   "outputs": [
    {
     "name": "stdout",
     "output_type": "stream",
     "text": [
      "Yes\n"
     ]
    }
   ],
   "source": [
    "sum_list=[]\n",
    "#n=10\n",
    "#m=100\n",
    "#k=[1,3,5,2,4,6,5,6,7,8]\n",
    "for i in range(n):\n",
    "    for j in range(i,n):\n",
    "        if k[i]+k[j] not in sum_list:\n",
    "            sum_list.append(k[i]+k[j])\n",
    "sum_list.sort()\n",
    "nums=len(sum_list)\n",
    "#print(sum_list,nums)\n",
    "\n",
    "def b_search(x):\n",
    "    min_n=0\n",
    "    max_n=nums\n",
    "    while max_n-min_n>0:\n",
    "        middle=math.floor((min_n+max_n)/2)\n",
    "        if sum_list[middle]==x:\n",
    "            return True\n",
    "        elif sum_list[middle]<x:\n",
    "            min_n=middle+1\n",
    "        else:\n",
    "            max_n=middle\n",
    "    return False\n",
    "\n",
    "flag=False\n",
    "for each in sum_list:\n",
    "    if each+sum_list[0]>m or each+sum_list[-1]<m:\n",
    "        continue\n",
    "    elif b_search(m-each)==True:\n",
    "        flag=True\n",
    "        break\n",
    "print(\"Yes\") if flag else print(\"No\")"
   ]
  },
  {
   "cell_type": "code",
   "execution_count": null,
   "metadata": {},
   "outputs": [],
   "source": []
  }
 ],
 "metadata": {
  "kernelspec": {
   "display_name": "Python 3",
   "language": "python",
   "name": "python3"
  },
  "language_info": {
   "codemirror_mode": {
    "name": "ipython",
    "version": 3
   },
   "file_extension": ".py",
   "mimetype": "text/x-python",
   "name": "python",
   "nbconvert_exporter": "python",
   "pygments_lexer": "ipython3",
   "version": "3.7.3"
  }
 },
 "nbformat": 4,
 "nbformat_minor": 2
}
