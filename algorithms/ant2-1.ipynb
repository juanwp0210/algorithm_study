{
 "cells": [
  {
   "cell_type": "markdown",
   "metadata": {},
   "source": [
    "# 2-1全探索\n",
    "#### 再帰関数\n",
    "    とは、関数の処理内に自分自身を含むような関数"
   ]
  },
  {
   "cell_type": "code",
   "execution_count": 1,
   "metadata": {},
   "outputs": [],
   "source": [
    "#階乗を返す再帰関数\n",
    "def fact(n):\n",
    "    if n==0:\n",
    "        return 1\n",
    "    return n*fact(n-1)"
   ]
  },
  {
   "cell_type": "code",
   "execution_count": 2,
   "metadata": {},
   "outputs": [
    {
     "data": {
      "text/plain": [
       "24"
      ]
     },
     "execution_count": 2,
     "metadata": {},
     "output_type": "execute_result"
    }
   ],
   "source": [
    "fact(4)"
   ]
  },
  {
   "cell_type": "code",
   "execution_count": 3,
   "metadata": {},
   "outputs": [],
   "source": [
    "#フィボナッチ数を返す再帰関数\n",
    "def fib(n):\n",
    "    if n==0 or n==1:\n",
    "        return 1\n",
    "    return fib(n-1)+fib(n-2)"
   ]
  },
  {
   "cell_type": "code",
   "execution_count": 4,
   "metadata": {},
   "outputs": [
    {
     "name": "stdout",
     "output_type": "stream",
     "text": [
      "1\n",
      "1\n",
      "2\n",
      "3\n",
      "5\n",
      "8\n",
      "13\n",
      "21\n",
      "34\n",
      "55\n"
     ]
    }
   ],
   "source": [
    "for i in range(10):\n",
    "    print(fib(i))"
   ]
  },
  {
   "cell_type": "markdown",
   "metadata": {},
   "source": [
    "ただし、フィボナッチ数の場合、上のような愚直な再帰関数を使うと重複してなんども呼び出されて効率が悪いため、動的計画法を用いると効率的になる。後に扱う。\n",
    "#### スタック(Stack, LIFO)\n",
    "    とは、pushとpopという2種類の操作ができるデータ構造。pushはスタックの一番上にデータを積み、popはスタックの一番上からデータを取り出す。c++には標準ライブラリに含まれているが、pythonではリストを用いて作る必要がある。\n",
    "#### キュー(Queue, FIFO)\n",
    "    は、スタックの逆で、pushはスタックの一番上にデータを積むが、popはスタックの一番下からデータを取り出す。\n",
    "#### 深さ優先探索(DFS)\n",
    "    とは、ある状態(幹)から生えている、ある枝の最新部まで探索した後、次の枝に移って探索することを繰り返す探索法。スタックとの相性が良い。\n",
    "#### 幅優先探索(BFS)\n",
    "    とは、ある状態(幹)から生えている、各枝の幹にもっとも近い部分を探索し、幹からの距離を変えながら各枝について探索していく方法。キューとの相性が良い。\n",
    "### 問題(部分和問題)\n",
    "    整数a_1~a_nが与えられた時、与えられた値kと等しくなるような部分和が存在するか判定せよ。\n",
    "    n=(1~20)\n",
    "    a_i=(-10^8~10^8)\n",
    "    k=(-10^8~10^8)\n",
    " 考え方：n<=20なので、各整数にビットを割り振って全探索しても、2^20~10^6で1秒以内に収まる。簡単。DFSですらない(?)。　"
   ]
  },
  {
   "cell_type": "code",
   "execution_count": 5,
   "metadata": {},
   "outputs": [],
   "source": [
    "# import\n",
    "import numpy as np\n",
    "import random as rn\n",
    "import math\n",
    "import itertools"
   ]
  },
  {
   "cell_type": "code",
   "execution_count": 6,
   "metadata": {},
   "outputs": [],
   "source": [
    "#入力\n",
    "n=rn.randint(1,20)\n",
    "a=[]\n",
    "for i in range(n):\n",
    "    a.append(rn.randint(-10**8,10**8))\n",
    "k=rn.randint(-10**8,10**8)"
   ]
  },
  {
   "cell_type": "code",
   "execution_count": 7,
   "metadata": {},
   "outputs": [
    {
     "name": "stdout",
     "output_type": "stream",
     "text": [
      "yes\n"
     ]
    }
   ],
   "source": [
    "num=2**n\n",
    "flag=True\n",
    "for i in range(num):\n",
    "    num_bin=format(i,\"b\").zfill(n)\n",
    "    partial_sum=sum(int(num_bin[j])*a[j] for j in range(n))\n",
    "    if partial_sum==k:\n",
    "        flag=True\n",
    "        break\n",
    "print(\"yes\") if flag else print(\"No\")"
   ]
  },
  {
   "cell_type": "markdown",
   "metadata": {},
   "source": [
    "### 問題( POJ No.2368)\n",
    "    雨が降り、大きさが横N×縦Mの庭に水たまりができた。水たまりは8方位のいずれかで隣接している場合に繋がっているとみなす。庭の状態があたえられたときに、独立な水たまりの数を数えて出力せよ。ただし、入力で1,0は水たまりかどうかを表す。\n",
    "    N,M=(0~100)\n",
    " 考え方：愚直にやってもO(100^2×8)。ある点から初めて、水たまりであればどのくらい広がっているか見て、見終えたら次の点にうつる。これはDFS。M行N列。\n",
    " 自力では解けなかったので回答を見た。"
   ]
  },
  {
   "cell_type": "code",
   "execution_count": 8,
   "metadata": {},
   "outputs": [],
   "source": [
    "#入力\n",
    "row=rn.randint(1,100)\n",
    "column=rn.randint(1,100)\n",
    "garden=[]\n",
    "for i in range(row):\n",
    "    s=[]\n",
    "    for j in range(column):\n",
    "        s.append(rn.randint(0,1))\n",
    "    garden.append(s)\n",
    "#print(row,column)\n"
   ]
  },
  {
   "cell_type": "code",
   "execution_count": 9,
   "metadata": {},
   "outputs": [
    {
     "name": "stdout",
     "output_type": "stream",
     "text": [
      "2\n"
     ]
    }
   ],
   "source": [
    "def wet(i,j):\n",
    "    garden[i][j]=0\n",
    "    for dr,dc in itertools.product( [-1,0,1],[-1,0,1]):\n",
    "        if i+dr>=0 and i+dr<row and j+dc>=0 and j+dc< column and garden[i+dr][j+dc]==1:\n",
    "            wet(i+dr,j+dc)\n",
    "    return True\n",
    "count=0\n",
    "for i, j in itertools.product(range(row), range(column)):\n",
    "    if garden[i][j]==1:\n",
    "        wet(i,j)\n",
    "        count+=1\n",
    "print(count)"
   ]
  },
  {
   "cell_type": "markdown",
   "metadata": {},
   "source": [
    "### 問題(迷路の最短経路)\n",
    "    大きさが横N×縦Mの迷路が、2(スタート)・3(ゴール)・1(壁)・0（通路)によって与えられる。隣接する4方向に移動可能。スタートからゴールまでの最短移動数を出力せよ。ゴールに到達不可能な場合は-1を出力せよ。\n",
    "    N,M=(1~100)\n",
    "考え方：スタートから一歩ずつ全方位に進んでいくので、BFS。(最短経路はDFSでも解ける。さらに、のちに扱うダイクストラ法を用いいるとより効率的に解ける。)スタートから進める場所をリストにappendしていって、ゴールが含まれれば出力、という方向性でやってみよう。ちなみに、「ゴールに到達不可能な場合は-1を出力せよ。」というのはオリジナルの問題にはない。O(N×M×4)。"
   ]
  },
  {
   "cell_type": "code",
   "execution_count": 10,
   "metadata": {},
   "outputs": [],
   "source": [
    "#入力\n",
    "row=rn.randint(3,50)\n",
    "column=rn.randint(3,50)\n",
    "\n",
    "maze=[]\n",
    "for i in range(row):\n",
    "    s=[]\n",
    "    for j in range(column):\n",
    "        s.append(round(rn.random()*0.7))\n",
    "    maze.append(s)\n",
    "i,j=rn.randint(0,row-1),rn.randint(0,column-1)\n",
    "maze[i][j]=2\n",
    "start=(i,j)\n",
    "i,j=(i+rn.randint(1,row-2))%row,(j+rn.randint(1,column-2))%column\n",
    "maze[i][j]=3\n",
    "goal=(i,j)\n",
    "#print(maze)"
   ]
  },
  {
   "cell_type": "code",
   "execution_count": 11,
   "metadata": {},
   "outputs": [
    {
     "name": "stdout",
     "output_type": "stream",
     "text": [
      "17\n"
     ]
    }
   ],
   "source": [
    "path=[[start,0]]\n",
    "way=[(1,0),(-1,0),(0,1),(0,-1)]\n",
    "flag=False\n",
    "while len(path)>0:\n",
    "    cand=path.pop(0)\n",
    "    place=cand[0]\n",
    "    count=cand[1]\n",
    "    i,j=place[0],place[1]\n",
    "    \n",
    "    for direction in way:\n",
    "        di,dj=direction[0],direction[1]\n",
    "        if (i+di,j+dj)==goal:\n",
    "            count+=1\n",
    "            flag=True\n",
    "            break\n",
    "        elif i+di>=0 and i+di<row and j+dj>=0 and j+dj<column and maze[i+di][j+dj]==0:\n",
    "            path.append([(i+di,j+dj),count+1])\n",
    "            maze[i+di][j+dj]=1\n",
    "print(count) if flag else print(\"-1\")\n",
    "            "
   ]
  },
  {
   "cell_type": "markdown",
   "metadata": {},
   "source": [
    "模範回答と考え方はほぼ同じだった。模範解答では、距離関数を別で定義している。"
   ]
  }
 ],
 "metadata": {
  "kernelspec": {
   "display_name": "Python 3",
   "language": "python",
   "name": "python3"
  },
  "language_info": {
   "codemirror_mode": {
    "name": "ipython",
    "version": 3
   },
   "file_extension": ".py",
   "mimetype": "text/x-python",
   "name": "python",
   "nbconvert_exporter": "python",
   "pygments_lexer": "ipython3",
   "version": "3.7.3"
  }
 },
 "nbformat": 4,
 "nbformat_minor": 2
}
