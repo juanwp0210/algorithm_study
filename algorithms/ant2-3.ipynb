{
 "cells": [
  {
   "cell_type": "markdown",
   "metadata": {},
   "source": [
    "# 2-3 動的計画法(DP)\n",
    "    とは、一般に状態iから状態jに遷移するためのコストの表を作成し、表を参照・更新しながら最適解を求めていくような方法。 同じ値を何度も計算する無駄を省き、結果を表に残すことで効率的に計算する。"
   ]
  },
  {
   "cell_type": "markdown",
   "metadata": {},
   "source": [
    "### 問題(ナップザック問題)\n",
    "    価値が vi 重さが wi であるような N 個の品物と、容量が W のナップザックがあります。容量を超えないよう品物を選んでナップザックに入れるとき、勝ちの合計の最大値を出力せよ。\n",
    "    1 ≤ N ≤ 100\n",
    "    1 ≤ vi ≤ 1,000\n",
    "    1 ≤ wi ≤ 1,000\n",
    "    1 ≤ W ≤ 10,000\n",
    "考え方：愚直な方法だとO(2^N)となり、指数関数的に計算量が増える。「メモ化」を用いた下の方法だとO(nW)までに減る(これは厳密にはDPではない。」。模範解答をみた。dp\\[ i \\]\\[ j \\]は、i番目以降から重さの総和がj以下となるように選んだときの価値の総和の最大値となっている。\n"
   ]
  },
  {
   "cell_type": "code",
   "execution_count": 1,
   "metadata": {
    "collapsed": true
   },
   "outputs": [],
   "source": [
    "# import\n",
    "import numpy as np\n",
    "import math\n",
    "import random as rn\n",
    "import itertools as it"
   ]
  },
  {
   "cell_type": "code",
   "execution_count": 2,
   "metadata": {
    "collapsed": true
   },
   "outputs": [],
   "source": [
    "# 入力　ランダム\n",
    "N=rn.randint(1,100)\n",
    "W=rn.randint(1,10000)\n",
    "Vs=[]\n",
    "Ws=[]\n",
    "for i in range(N):\n",
    "    Vs.append(rn.randint(1,1000))\n",
    "    Ws.append(rn.randint(1,1000))"
   ]
  },
  {
   "cell_type": "code",
   "execution_count": 32,
   "metadata": {
    "collapsed": true
   },
   "outputs": [],
   "source": [
    "#　入力　サンプル\n",
    "N=4\n",
    "Ws=[2,1,3,2]\n",
    "Vs=[3,2,4,2]\n",
    "W=5"
   ]
  },
  {
   "cell_type": "code",
   "execution_count": 10,
   "metadata": {},
   "outputs": [
    {
     "name": "stdout",
     "output_type": "stream",
     "text": [
      "7\n"
     ]
    }
   ],
   "source": [
    "dp=[ [-1 for i in range(W+1)]  for j in range(N+1) ]\n",
    "def rec(i,j):\n",
    "    if dp[i][j] >= 0:\n",
    "        return dp[i][j]\n",
    "    if i == N:\n",
    "        res = 0\n",
    "    elif j < Ws[i]:\n",
    "        res = rec( i + 1 , j )\n",
    "    else:\n",
    "        res = max( rec( i+1, j ) , rec( i + 1, j - Ws[i] ) + Vs[i] )\n",
    "    dp[i][j] = res\n",
    "    return  dp[i][j]\n",
    "    \n",
    "print( rec(0,W) )"
   ]
  },
  {
   "cell_type": "markdown",
   "metadata": {},
   "source": [
    "次に、同じ問題の別解(漸化式）。この解き方の方が圧倒的にわかりやすい。O(nW)で計算量は同じ。厳密にはこれがDP。  \n",
    "dp\\[ N \\]\\[ j \\] = 0  :  N番目以降から選ぶ方法は、常にゼロ  \n",
    "dp \\[ i \\] \\[ j \\] = dp\\[ i+1 \\]\\[ j \\]   ... if j < w\\[ i \\]  \n",
    "= max ( dp \\[ i+1 \\] \\[ j \\] , dp \\[ i+1 \\] \\[ j - w \\[ i \\] \\] + v \\[ i \\] ) ... otherwise  \n",
    "この漸化式にしたがって、逆に k = N　から　0に向かってループを回して、最終的にdp \\[ 0 \\] \\[ W \\] を計算する方法。聞けばわかりやすいが、自力で解ける気がまだしない。"
   ]
  },
  {
   "cell_type": "code",
   "execution_count": 19,
   "metadata": {},
   "outputs": [
    {
     "name": "stdout",
     "output_type": "stream",
     "text": [
      "7\n"
     ]
    }
   ],
   "source": [
    "dp=[ [-1 for i in range(W+1)]  for j in range(N) ]\n",
    "dp.append( [0 for i in range(W+1)] )\n",
    "for i in range(0, N)[::-1]:\n",
    "    for j in range(W+1):\n",
    "        if j < Ws[i]:\n",
    "            dp[i][j] = dp[i+1][j]\n",
    "        else:\n",
    "            dp[i][j] = max( dp[i+1][j] , dp[i+1][j-Ws[i]] + Vs[i])\n",
    "print( dp[0][W])"
   ]
  },
  {
   "cell_type": "markdown",
   "metadata": {},
   "source": [
    "逆に、「i番目までの商品を選んだときの価値の最大値」とすれば、順ループでかける。漸化式で書くときはこっちが自然か。"
   ]
  },
  {
   "cell_type": "code",
   "execution_count": 35,
   "metadata": {},
   "outputs": [
    {
     "name": "stdout",
     "output_type": "stream",
     "text": [
      "7\n"
     ]
    }
   ],
   "source": [
    "dp=[[0 for i in range(W+1)] ]\n",
    "[dp.append(  [ -1 for i in range(W+1)]   ) for j in range(N) ]\n",
    "for i in range(N):\n",
    "    for j in range(W+1):\n",
    "        if j < Ws[i]:\n",
    "            dp[i+1][j]=dp[i][j]\n",
    "        else:\n",
    "            dp[i+1][j]=max( dp[i][j], dp[i][j - Ws[i]] + Vs[i]) \n",
    "print(dp[N][W])"
   ]
  },
  {
   "cell_type": "markdown",
   "metadata": {},
   "source": [
    "### 問題(最長共通部分列)\n",
    "    2つの文字列 s_1 ... s_n と t_1 ... t_mが与えられる。これらの2ツノ共通部分文字列の長さの最大値を求めよ。\n",
    "    ただし、部分文字列とは、 s_i1 s_i2 ... s_ik (i1 < i2 < ... < ik )を満たす文字列のことである。\n",
    "    1<= n,m <= 1000\n",
    "考え方：さて、これは自力で解きたい。漸化式で考えよう。Sのi文字目までとTのj文字までの最長部分文字列をdp( i , j )としよう。\n",
    "初期値：dp( 0 , j )=0, dp( i , 0)=0。もし、k文字目が一致していたら、 最長文字列は1文字のびる。一致していなかった場合、１文字前の最長部分文字列との最大値になる。\n",
    "dp( i+1 , j+1) = dp( i, j )+1 ... S_i+1 = T_j+1\n",
    "        ＝max ( dp( i+1, j) , dp( i , j+1 ) ) \n",
    "        \n",
    "O(NM)。\n",
    "  \n"
   ]
  },
  {
   "cell_type": "code",
   "execution_count": 48,
   "metadata": {},
   "outputs": [
    {
     "name": "stdout",
     "output_type": "stream",
     "text": [
      "458 xmdhzyxinhqubkrnkcyoixibcgvnljirgggplugiabotcfeuyrpyeidqjdcewvpdyasvbodybsjrdpwqzhsxgyriebfttaiobbfoctucouubfiovpnskrjqyraqphewaaekpoyslqunaspisljukvdgrxzjmiqumcjqingnhmdsevcbnyidgnhieadbuursudwjeiqomylfwaqkvxonucmywpmdoktvtybxizafbfikszlgvrllunlpebbtcrlfximvnbivuznoykfdmsqudvfqikhrngbwaaroreghsuibrxtzebovqlrzrbpkkenqgaufvqyzxyotikbtiffqqpyjrvrxnmtenzgqycjserrsxjeeuchvhtvqjbzjdqdifxlfdtczfpzabopheujsimytllroiysvcmgxrceycfmnqkpbhlgqeeslwuvhhxxwqoqguhtcztq\n",
      "90 sltdzwmexaxcgxhymudraehnoqvoqadbawifdgzedlvraxlxcxfvehxzojflksdzrqgmcxcpfnedxpztgbdcdcvutf\n"
     ]
    }
   ],
   "source": [
    "#　入力　ランダム\n",
    "alphabets=\"abcdefghijklmnopqrstuvwxyz\"\n",
    "N,M=rn.randint(1,1000),rn.randint(1,1000)\n",
    "S,T=\"\",\"\"\n",
    "for i in range(N):\n",
    "    S+=alphabets[rn.randint(0,25)]\n",
    "for i in range(M):\n",
    "    T+=alphabets[rn.randint(0,25)]\n",
    "print(N,S)\n",
    "print(M,T)"
   ]
  },
  {
   "cell_type": "code",
   "execution_count": 50,
   "metadata": {
    "collapsed": true
   },
   "outputs": [],
   "source": [
    "#入力　サンプル\n",
    "N,M=4,5\n",
    "S=\"abcd\"\n",
    "T=\"becdx\""
   ]
  },
  {
   "cell_type": "code",
   "execution_count": 51,
   "metadata": {},
   "outputs": [
    {
     "name": "stdout",
     "output_type": "stream",
     "text": [
      "3\n"
     ]
    }
   ],
   "source": [
    "dp=[[ 0 for i in range( M+1 )] for j in range(N +1 )]\n",
    "for i in range( N ):\n",
    "    for j in range( M ):\n",
    "        if S[ i ] == T[ j ]:\n",
    "            dp[ i+1][ j+1 ] = dp[ i ][ j ] + 1\n",
    "        else:\n",
    "            dp[ i+1][ j+1 ] = max( dp[i+1][j] , dp[ i][ j+1 ] )\n",
    "print(dp[N][M])"
   ]
  },
  {
   "cell_type": "markdown",
   "metadata": {},
   "source": [
    "### 問題(個数制限なしナップザック問題)\n",
    "    ナップザック問題と基本的には同じだが、各商品を荷物に入れる個数に制限がない場合の問題。\n",
    "    1 ≤ N ≤ 100\n",
    "    1 ≤ vi ≤ 1,000\n",
    "    1 ≤ wi ≤ 1,000\n",
    "    1 ≤ W ≤ 10,000\n",
    "考え方：まず思いつくのは2重ループの中に、個数kのループも作って、最適な個数を選ぶ方法。だが、これではO(nW^2)で不十分。なので漸化式を式変形してO(nW)で解けるようにする。ここら辺は自力では無理で、解説・模範解答を読んでいる。  \n",
    "漸化式についてだが、まず　愚直な方法では、  \n",
    "dp ( 0 , j ) = 0  \n",
    "dp ( i + 1 , j ) = max( dp ( i , j - k　×　w\\[ i \\] ) + k　×　v\\[ i \\]  for k >= 0 )  \n",
    "と書き換わる。これをさらに式変形して、  \n",
    "dp ( i + 1 , j ) = max( dp ( i , j - k　×　w\\[ i \\] ) + k　×　v\\[ i \\]  for k >= 0 )  \n",
    "dp ( i + 1 , j ) = max( dp ( i , j ) ,    dp ( i , j - k　×　w\\[ i \\] ) + k　×　v\\[ i \\]  for k >= 1  )  \n",
    "dp ( i + 1 , j ) = max( dp ( i , j ) ,    dp ( i , j - 　w\\[ i \\] - k　×　w\\[ i \\] +  k　×　v\\[ i \\]) + v\\[ i \\]  for k >= 0  )  \n",
    "dp ( i + 1 , j ) = max( dp ( i , j ) ,    dp ( i + 1 , j - 　w\\[ i \\] ) + v\\[ i \\]  )  \n",
    "となって、kループがなくなる。天才的な式変形だが、よく見ると、dp ( i + 1 , j - 　w\\[ i \\] ) + v\\[ i \\]  )  か　dp ( i  , j - 　w\\[ i \\] ) + v\\[ i \\]  )  かという違いだけ。それだけで個数1つか制限なしかが変わるとは。。。直感的にはわからない。ちゃんとテーブルを紙に書いて考えた方が良いのだろう。まだ理解できていないが、簡単な問題なら自力で解けるようになった気もする。まあとにかくこの問題のコードを書いておく。"
   ]
  },
  {
   "cell_type": "code",
   "execution_count": 1,
   "metadata": {
    "collapsed": true
   },
   "outputs": [],
   "source": [
    "#　入力　サンプル\n",
    "N=3\n",
    "Ws=[3,4,2]\n",
    "Vs=[4,5,3]\n",
    "W=7"
   ]
  },
  {
   "cell_type": "code",
   "execution_count": 2,
   "metadata": {},
   "outputs": [
    {
     "name": "stdout",
     "output_type": "stream",
     "text": [
      "10\n"
     ]
    }
   ],
   "source": [
    "dp=[[0 for i in range(W+1)] ]\n",
    "[dp.append(  [ -1 for i in range(W+1)]   ) for j in range(N) ]\n",
    "for i in range(N):\n",
    "    for j in range(W+1):\n",
    "        if j < Ws[i]:\n",
    "            dp[i+1][j]=dp[i][j]\n",
    "        else:\n",
    "            dp[i+1][j]=max( dp[i][j], dp[i+1][j - Ws[i]] + Vs[i]) \n",
    "print(dp[N][W])"
   ]
  },
  {
   "cell_type": "markdown",
   "metadata": {},
   "source": [
    "この章は残りの問題が難しいからひとまず次の章に進む。\n",
    "まあ漸化式を使う基本は理解できた。。はず。。"
   ]
  },
  {
   "cell_type": "code",
   "execution_count": null,
   "metadata": {
    "collapsed": true
   },
   "outputs": [],
   "source": []
  }
 ],
 "metadata": {
  "kernelspec": {
   "display_name": "Python 3",
   "language": "python",
   "name": "python3"
  },
  "language_info": {
   "codemirror_mode": {
    "name": "ipython",
    "version": 3
   },
   "file_extension": ".py",
   "mimetype": "text/x-python",
   "name": "python",
   "nbconvert_exporter": "python",
   "pygments_lexer": "ipython3",
   "version": "3.7.3"
  }
 },
 "nbformat": 4,
 "nbformat_minor": 2
}
