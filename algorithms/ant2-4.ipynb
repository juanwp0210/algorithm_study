{
 "cells": [
  {
   "cell_type": "markdown",
   "metadata": {},
   "source": [
    "# 2-4 データ構造\n",
    "\n",
    "#### 木・二分木\n",
    "    木とは、ノードとエッジからなるダイアグラム。全てのノードについて、下に生えているエッジが2本以下であるような木を、二分木と呼ぶ。また、上流にあるノードを親と呼び、そこから下流にあり、エッジで繋がっているノードをその子と呼ぶ。\n",
    "#### プライオリティキューとヒープ\n",
    "    プライオリティキューとは、次のような操作を行えるデータ構造。\n",
    "    ・ 数を追加する\n",
    "    ・　最小の値を取り出す(値を取得し、削除する)\n",
    "    これを二分木を用いて効率的に実現するのが、ヒープと呼ばれるデータ構造。\n",
    "    ヒープでは、必ず子が親より大きい数になるよう、上から下へ、左から右へ詰めて構成される。。 \n",
    "    ヒープに数を追加する場合、まず新たな数字を最後尾に追加する。すなわち、一番下の世代の空いているノードのうち一番左に新たな数を追加する。もし各世代が埋まっている場合は、新たな世代の一番左に追加する。\n",
    "    さらに、逆転がなくなるまで上に上げていく。\n",
    "    ヒープから最小値を削除するには、まず一番上流のノードを削除し、一番下流のノードをコピーする。その後、逆転がなくなるまでノードをより小さい値の子と入れ替えていく。\n",
    "    ヒープを用いた計算では、深さに比例した計算量となるのでlog(n)の計算量で探索できる。"
   ]
  },
  {
   "cell_type": "code",
   "execution_count": 21,
   "metadata": {},
   "outputs": [],
   "source": [
    "# import\n",
    "import numpy as np\n",
    "import networkx as nx\n",
    "import math\n",
    "import random as rn\n",
    "import itertools"
   ]
  },
  {
   "cell_type": "code",
   "execution_count": 22,
   "metadata": {},
   "outputs": [],
   "source": [
    "# ヒープの実装例\n",
    "N=100\n",
    "sz=0\n",
    "heap=[ 10000 for i in range(N)]\n",
    "\n",
    "def push(x):\n",
    "    i=sz+1\n",
    "    while i>0:\n",
    "        p=int((i-1)/2)\n",
    "        if heap[p]<=x:\n",
    "            break\n",
    "        heap[i] = heap[p]\n",
    "        i=p\n",
    "    heap[i]=x\n",
    "    return True\n",
    "\n",
    "def pop():\n",
    "    ret=hep[0]\n",
    "    x=hep[sz-1]\n",
    "    i=0\n",
    "    while ( i*2+1<sz):\n",
    "        a=i*2+1\n",
    "        b=i*2+2\n",
    "        if b<sz and heap[b]<heap[a]:\n",
    "            a=b\n",
    "        if heap[a] >= b:\n",
    "            break\n",
    "        heap[i]=heap[a]\n",
    "        i=a\n",
    "    heap[i]=x\n",
    "    return ret"
   ]
  },
  {
   "cell_type": "markdown",
   "metadata": {},
   "source": [
    "テキストのコードをpythonに翻訳したはいいけど、理解しきれていない。  \n",
    "頻繁に使うデータ構造はライブラリで用意されていることが多いので、それを使うと良いようだ。特にC++はそのようなライブラリが豊富なので、競プロでは有利らしい。ただpythonでも調べれば使えるのがありそう。例えば、"
   ]
  },
  {
   "cell_type": "code",
   "execution_count": 32,
   "metadata": {},
   "outputs": [
    {
     "name": "stdout",
     "output_type": "stream",
     "text": [
      "[0, 3, 2, 6]\n",
      "[0, 3, 2, 6, 3]\n",
      "0\n",
      "[2, 3, 3, 6]\n"
     ]
    }
   ],
   "source": [
    "import heapq\n",
    "\n",
    "def heapsort(iterable):\n",
    "    h = []\n",
    "    for value in iterable:\n",
    "        heapq.heappush(h, value)\n",
    "    return [heapq.heappop(h) for i in range(len(h))]\n",
    "\n",
    "heapsort([1, 3, 5, 7, 9, 2, 4, 6, 8, 0])\n",
    "\n",
    "a = [3,0,2,6]\n",
    "\n",
    "heapq.heapify(a)\n",
    "print(a)\n",
    "\n",
    "heapq.heappush(a,3)\n",
    "print(a)\n",
    "\n",
    "print(heapq.heappop(a))\n",
    "print(a)"
   ]
  },
  {
   "cell_type": "markdown",
   "metadata": {},
   "source": [
    "### 問題( POJ 2431)\n",
    "    トラックで距離 Lの道を移動する。はじめトラックにはガソリンがP積まれており、燃費は 1。途中にN個のガソリンスタンドがあるが、その場所は距離A_iの地点にあり、ガソリンをB_iだけ補給できる。トラックが距離をLを完走できる場合は、必要な最小補給回数を、完走できない場合は-1を出力せよ。\n",
    "    1<= N <=10^5\n",
    "    1<= L,P <= 10**6\n",
    "    1<= A_i < L \n",
    "    1<= B_i <= 100\n",
    "考え方：ヒープの応用の仕方がわからないので、とりあえず解説を読む。<u>1. ガソリンスタンドiを通過したときに、heapにB_iを追加する</u>、<u>2. 燃料がきれたときに、ヒープから最大値を取り出し、補給したことにする</u> という考え方らしい。エレガントやね。コードは見ずに解いてみましょう。"
   ]
  },
  {
   "cell_type": "code",
   "execution_count": 46,
   "metadata": {},
   "outputs": [
    {
     "name": "stdout",
     "output_type": "stream",
     "text": [
      "[2, 3, 5, 7, 10, 11, 12, 13, 14, 15, 16, 17, 18, 19, 20, 21, 23, 24, 25, 27, 29, 30, 31, 32, 33, 34, 35, 37, 38, 39, 40, 42, 43, 44, 45, 46, 47, 48, 49, 50, 51, 52, 53, 54, 55, 56, 57, 58, 60, 61, 62, 63, 64, 65, 66, 68, 69, 70, 71, 72, 73, 74, 77, 78, 79, 80, 81, 86, 87, 88, 89, 91, 92, 93, 94, 95, 96, 97, 99, 100, 101, 102, 103, 104, 105, 106, 107, 108, 109, 110, 111, 112, 114, 115, 118, 119, 120, 121, 122]\n",
      "[40, 9, 38, 93, 90, 32, 60, 59, 86, 34, 21, 9, 92, 97, 62, 86, 38, 56, 19, 86, 14, 93, 74, 93, 85, 82, 2, 52, 25, 80, 19, 100, 53, 53, 12, 65, 92, 78, 65, 19, 22, 59, 23, 74, 41, 47, 55, 85, 25, 46, 7, 70, 50, 20, 49, 54, 14, 74, 12, 98, 90, 67, 42, 24, 100, 98, 55, 29, 35, 33, 27, 28, 99, 18, 90, 8, 72, 83, 50, 15, 71, 67, 82, 100, 61, 52, 94, 47, 27, 31, 37, 57, 80, 85, 78, 26, 72, 25, 59]\n"
     ]
    }
   ],
   "source": [
    "# 入力　ランダム\n",
    "N=rn.randint(1,10**5)\n",
    "L,P=rn.randint(1,10**6),rn.randint(1,10**6)\n",
    "As=[ rn.randint(1,L-1) for _ in range(N*10)]\n",
    "As=list(set(As))[:N]\n",
    "Bs=[rn.randint(1,100) for _ in range(N)]\n",
    "\n",
    "print(As[1:min(100,N)])\n",
    "print(Bs[1:min(100,N)])"
   ]
  },
  {
   "cell_type": "code",
   "execution_count": 88,
   "metadata": {},
   "outputs": [
    {
     "name": "stdout",
     "output_type": "stream",
     "text": [
      "N=20, L=100, P=10\n",
      "As=[4, 8, 18, 22, 25, 27, 30, 35, 37, 45, 63, 66, 68, 71, 73, 78, 79, 87, 90, 93]\n",
      "Bs=[20, 7, 8, 4, 7, 14, 13, 9, 18, 10, 12, 17, 15, 5, 19, 5, 4, 6, 2, 12]\n"
     ]
    }
   ],
   "source": [
    "# 入力　サンプル\n",
    "N=20\n",
    "L,P=100,10\n",
    "while True:\n",
    "    As=list(set([rn.randint(1,99) for _ in range(N)]))\n",
    "    if len(As)==N:\n",
    "        break\n",
    "    else:\n",
    "        for i in range(N-len(As)):\n",
    "            As.append(rn.randint(1,99))\n",
    "As.sort()    \n",
    "Bs=[rn.randint(1,20) for _ in range(N)]\n",
    "print(\"N={0}, L={1}, P={2}\".format(N,L,P))\n",
    "print(\"As={0}\".format(As))\n",
    "print(\"Bs={0}\".format(Bs))"
   ]
  },
  {
   "cell_type": "code",
   "execution_count": 89,
   "metadata": {},
   "outputs": [
    {
     "name": "stdout",
     "output_type": "stream",
     "text": [
      "[-20, -7]\n",
      "[-14, -8, -13, -7, -7, -4]\n",
      "[-18, -13, -13, -8, -7, -4, -9, -7]\n",
      "[-13, -13, -9, -10, -7, -4, -7, -8]\n",
      "[-19, -15, -17, -12, -13, -9, -7, -8, -10, -7, -5, -4]\n",
      "[-17, -15, -9, -12, -13, -5, -7, -12, -10, -7, -5, -4, -4, -6, -2, -8]\n",
      "6\n"
     ]
    }
   ],
   "source": [
    "now=0\n",
    "reach=P\n",
    "h=[]\n",
    "ans=0\n",
    "flag=True\n",
    "\n",
    "while True:\n",
    "    for i in range(now,reach+1):\n",
    "        if i in As:\n",
    "            heapq.heappush(h,-Bs[As.index(i)])\n",
    "    print(h)\n",
    "    if len(h)==0:\n",
    "        flag=False\n",
    "        break\n",
    "    now=reach\n",
    "    reach+=-heapq.heappop(h)\n",
    "    ans+=1\n",
    "    if reach>=L:\n",
    "        break\n",
    "print(ans) if flag else print(\"-1\")"
   ]
  },
  {
   "cell_type": "markdown",
   "metadata": {},
   "source": [
    "#### 二分探索木\n",
    "    とは、次のような操作を効率的に行えるデータ構造。\n",
    "    ・ 数値を追加する\n",
    "    ・　ある数値が含まれているか調べる\n",
    "    ・　ある数値を削除する\n",
    "    具体的には2分探索木は、左の子以下の数は自分よりも小さく、右の子以下の数は自分よりも大きくなるように構成される。ある数Aが2分探索木に含まれるか調べるためには、最上流から初めて、ノードの値とAを比べ、Aの方が大きければ右の子と比較し、小さければ右の子と比べていけば良い。\n",
    "    数の追加は、その数を探索するつもりでたどれば、追加すべき位置がわかる。\n",
    "    数の削除は、次の場合わけによって行われる：\n",
    "    ・ 削除したいノードが左の子を持たない場合は、右の子をコピーする\n",
    "    ・ 削除したいノードの左の子が右の子を持っていない場合は、左の子をコピーする\n",
    "    ・　どちらでもない場合、左の子以下で最も大きいノードをコピーする。\n",
    "    どの操作も、理想的にはO(logN)で計算できるが、極端な形の木になる場合はこの限りではない。\n",
    "二分探索木の実装をやるべきだが、ひとまず飛ばしてライブラリを利用する。と思ったが、pythonには2分探索木のライブラリがなさそう。2分探索のライブラリはありそう。実際のところ、2分探索さえできれば、別に2分探索木を構成しなくても良いんじゃないか？ それ以外の用途で2分探索木が必要になることはあるのか？"
   ]
  },
  {
   "cell_type": "code",
   "execution_count": 97,
   "metadata": {},
   "outputs": [
    {
     "name": "stdout",
     "output_type": "stream",
     "text": [
      "2\n",
      "[1, 3, 4, 5, 7, 9, 11, 13, 14, 15, 17, 19, 23]\n",
      "1\n",
      "4\n",
      "4\n"
     ]
    }
   ],
   "source": [
    "import bisect\n",
    "a=[23,15,5,7,13,19,11,17,9,3,1]\n",
    "a.sort()\n",
    "x=4\n",
    "\n",
    "insert_index = bisect.bisect_left(a,x)\n",
    "print(insert_index)\n",
    "\n",
    "a.insert(insert_index,x)\n",
    "bisect.insort(a,14)\n",
    "\n",
    "print(a)\n",
    "\n",
    "a=[1,2,2,2,3] \n",
    "\n",
    "print(bisect.bisect_left(a,2))\n",
    "\n",
    "print(bisect.bisect_right(a,2))\n",
    "\n",
    "print(bisect.bisect(a,2))"
   ]
  },
  {
   "cell_type": "markdown",
   "metadata": {},
   "source": [
    "#### Union-Find 木\n",
    "    とは、グループ分けを管理するデータ構造。次の操作が効率的に行える。\n",
    "    ・　要素Aと要素Bが同じグループに属するかを調べる\n",
    "    ・　要素Aのグループと要素Bのグループを合併する\n",
    "    ただし、合併はできても分割はできない。\n",
    "    これを木として表現するためには、グループごとに非連結な木を用意する。この場合、それぞれの木において上流・下流の関係はもはや重要ではない。\n",
    "    ただし、実装する場合には、「木の深さ」すなわち世代数に注意しないと十分に計算量を抑えられない。ただし、下にまとめるような工夫をして実装した場合、上述の操作は平均的にはO(logN)よりも少ない計算量で計算できる。\n",
    "#### Union-Find 木の実装の工夫\n",
    "    ・　各木の深さ(rank)を記憶しておく。合併の際に、2つの木のrankの小さいものから大きいものへエッジを伸ばす。\n",
    "    ・　エッジの縮約・・・各ノードについて、一度根を辿ったら、エッジを直接根から伸ばし直す。\n",
    "下で実装してみる。これもpythonにはライブラリがない。"
   ]
  },
  {
   "cell_type": "code",
   "execution_count": 102,
   "metadata": {},
   "outputs": [],
   "source": [
    "# 初期化\n",
    "N=10\n",
    "rank=[0 for _ in range(N)]\n",
    "par=[i for i in range(N)]\n",
    "#実装\n",
    "def find(x):\n",
    "    if par[x]==x:\n",
    "        return x\n",
    "    else:\n",
    "        par[x] = find(par[x])\n",
    "        return par[x]\n",
    "def unite(x,y):\n",
    "    x=find(x)\n",
    "    y=find(y)\n",
    "    if x==y:\n",
    "        return\n",
    "    if rank[x]<rank[y]:\n",
    "        par[x]=y\n",
    "    else:\n",
    "        par[y]=x\n",
    "        if rank[x]==rank[y]:\n",
    "            rank[x]+=1\n",
    "def same(x,y):\n",
    "    return find(x)==find(y)\n",
    "    "
   ]
  },
  {
   "cell_type": "code",
   "execution_count": 105,
   "metadata": {},
   "outputs": [
    {
     "name": "stdout",
     "output_type": "stream",
     "text": [
      "[0, 1, 2, 1, 2, 1, 2, 7, 2, 9]\n",
      "True False\n"
     ]
    }
   ],
   "source": [
    "#例\n",
    "unite(1,3)\n",
    "unite(1,5)\n",
    "unite(2,4)\n",
    "unite(4,6)\n",
    "unite(6,8)\n",
    "print(par)\n",
    "print(same(8,4),same(9,1))"
   ]
  },
  {
   "cell_type": "markdown",
   "metadata": {},
   "source": [
    "### 問題 ( POJ 1182, 食物連鎖 )\n",
    "    ラベルiがつけれれたN匹の動物がいる。動物はすべて種類A,B,Cのいずれかである。AはBを食べ、BはCを食べ、CはAを食べる。次のような2種類の情報が順番にk個与えられる。\n",
    "    ・ タイプ1 : xとyは同じ種類\n",
    "    ・　タイプ2 : xはyを食べる\n",
    "    このとき、k個の情報のうち、前の情報と矛盾する情報と、x>Nのような正しくない情報がある。このような情報の個数を出力せよ。\n",
    "    1<=N<=5000\n",
    "    1<=K<=10^5\n",
    "考え方：問題の意味が汲み取りづらいが、わかれば簡単か。まず全ての動物のタイプを-1とかで初期化して、情報に応じて1,2,3の根にuniteしていけば良い。"
   ]
  },
  {
   "cell_type": "code",
   "execution_count": 115,
   "metadata": {},
   "outputs": [],
   "source": [
    "#入力　サンプル\n",
    "N=10\n",
    "K=7\n",
    "types=[1,2,2,2,1,2,1]\n",
    "inf=[(101,2),(1,2),(2,3),(3,3),(1,3),(3,1),(5,5)]\n"
   ]
  },
  {
   "cell_type": "code",
   "execution_count": 121,
   "metadata": {},
   "outputs": [
    {
     "name": "stdout",
     "output_type": "stream",
     "text": [
      "1\n",
      "4\n",
      "5\n",
      "3\n"
     ]
    }
   ],
   "source": [
    "ans=0\n",
    "par=[-1 for _ in range(N)]\n",
    "rank=[0 for _ in range(N)]\n",
    "\n",
    "for i in range(K):\n",
    "    #print(par)\n",
    "    t=types[i]\n",
    "    x,y=map(int, inf[i])\n",
    "    if x>N or y>N:\n",
    "        ans+=1\n",
    "        print(i+1)\n",
    "    else:\n",
    "        px=par[x]\n",
    "        py=par[y]\n",
    "        if t==1:\n",
    "            if px==-1 and py==-1:\n",
    "                par[x]=1\n",
    "                par[y]=1\n",
    "            elif px==-1 and py!=-1:\n",
    "                par[x]=y\n",
    "            elif px!=-1 and py==-1:\n",
    "                par[y]=x\n",
    "            elif px!=py:\n",
    "                ans+=1\n",
    "                print(i+1)\n",
    "        else:\n",
    "            if px==-1 and py==-1:\n",
    "                par[x]=1\n",
    "                par[y]=2\n",
    "            elif px==-1 and py!=-1:\n",
    "                par[x]=(y+1)%3+1\n",
    "            elif px!=-1 and py==-1:\n",
    "                par[y]=x%3+1\n",
    "            elif (px,py) not in [(1,2),(2,3),(3,1)]:\n",
    "                ans+=1\n",
    "                print(i+1)\n",
    "print(ans)"
   ]
  },
  {
   "cell_type": "markdown",
   "metadata": {},
   "source": [
    "union-treeを使ったとは言えない解法になってしまった。"
   ]
  }
 ],
 "metadata": {
  "kernelspec": {
   "display_name": "Python 3",
   "language": "python",
   "name": "python3"
  },
  "language_info": {
   "codemirror_mode": {
    "name": "ipython",
    "version": 3
   },
   "file_extension": ".py",
   "mimetype": "text/x-python",
   "name": "python",
   "nbconvert_exporter": "python",
   "pygments_lexer": "ipython3",
   "version": "3.7.3"
  }
 },
 "nbformat": 4,
 "nbformat_minor": 2
}
